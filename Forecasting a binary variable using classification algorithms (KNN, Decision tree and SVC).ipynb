{
 "cells": [
  {
   "cell_type": "markdown",
   "id": "49845d27",
   "metadata": {},
   "source": [
    "# Forecasting a binary variable using classification algorithms (KNN, Decision tree and SVC)"
   ]
  },
  {
   "cell_type": "markdown",
   "id": "ec98a7fd",
   "metadata": {},
   "source": [
    "## 1. Overview\n",
    "\n",
    "The data set used in this analysis contains information from 8000 patients, the features listed below and the class target variable that takes the value 0 if the patient has never used drugs or 1 if the patient has used drugs at some point. \n",
    "\n",
    "- **F1:** age\n",
    "- **F2:** education\n",
    "- **F3:** country of origin\n",
    "- **F4:** Ethnicity\n",
    "- **F5:** nscore\n",
    "- **F6:** escore\n",
    "- **F7:** oscore\n",
    "- **F8:** ascore\n",
    "- **F9:** cscore\n",
    "- **F10:** impulsivity\n",
    "- **F11:** sensation seeing\n",
    "\n",
    "Based on the 11 features listed above, this analysis aims to establish if a person will be likely or not to use drugs based on the 11 factors. \n",
    "\n",
    "## 2. Clasification methods and assessment metrics\n",
    "\n",
    "I will use three differnt classification algorithms to forecast the class variable: K-nearest neighbors, Decision Tree Classification and Suport vector classification. All the three methods will be asses using the following paramenters: \n",
    "\n",
    "1. **Sensitivity** is also known as the true positive rate. This is the proportion of all individuals who were correctly predicted as positive out of the number of true positives.\n",
    "2. **Specificity** is also known as the true negative rate. This is the proportion of all individuals who were correctly predicted as negative out of the number of true negatives.\n",
    "3. **The positive prediction rate**. This is the proportion of correctly predicted positive individuals out of the number of predicted positives.\n",
    "4. **The correct classification**. This is the number of correct classification  out of the total number of observations. \n",
    "\n",
    "#### 2.1 K-nearest neighbors\n",
    "\n",
    "K nearest neighbours (KNN) is a non-parametric classification/regression method that belongs to the class of supervised ML algorithms. The model is not based on a family of probability distributions; therefore, we don't require to make any assumptions for the data distribution. For each point we look at the k nearest labelled points to it, we predict the class of this point to be the class that the majority of its neighbours shares, e.g. if k = 5 and of the 5 neighbouring points, one is class 4, one is class 3 and three are class 2 then we predict the point belongs to class 2.\n",
    "\n",
    "I will implement a kNN algorithm with Python and Scikit-Learn. Link to documentation [here](https://scikit-learn.org/stable/modules/generated/sklearn.neighbors.KNeighborsClassifier.html). \n",
    "\n",
    "#### 2.2 Decision trees\n",
    "Classification trees are another type of nonparametric classification and partitioning method, and it also belongs to the class of supervised learning algorithms. Depending on the target variables, we have two different types of trees. \n",
    "\n",
    "- <u>Regression trees:</u> where the predicted outcome is a continuous variable and\n",
    "- <u>Decision/Classification trees:</u> where the predicted outcome is a categorical variable (either ordinal or nominal).\n",
    "\n",
    "There are six main components on each tree: \n",
    "\n",
    "- <u>Root Node:</u> This represents the entire population of the data set.\n",
    "- <u>Splitting:</u> This is the process of dividing/splitting a node into two (or more) newnodes (often known as “daughter”\n",
    "nodes).\n",
    "- <u>Decision/internal Node:</u> When a new node is split into further nodes, then it is called a decision/internal node.\n",
    "- <u>Leaf/Terminal node:</u> Nodes that do not split into further nodes are called terminal (also known as leaf/leaves).\n",
    "- <u>Subtree:</u> A subsection of the tree is called a subtree.\n",
    "- <u>Branch:</u> A subtree that is only one side of a split from a node. (Each split is made up of branches.)\n",
    "\n",
    "I will implement a Decision trees algorithm with Python and Scikit-Learn. Link to documentation [here.](https://scikit-learn.org/stable/modules/generated/sklearn.tree.DecisionTreeClassifier.html)\n",
    "\n",
    "### 2.3 Support Vector Machines\n",
    "\n",
    "Support vector classification is a non-parametric supervised ML algorithm like the previous two methods. They are binary classification methods, i.e. used for classification problems with only 2 classes. They can be generalised to multi-class problems. In summary, the concept behind SVM  is to try to fit a hyperplane that splits the points of the two classes into separate regions (a separating hyperplane). Some concepts of SVM to keep in mind: \n",
    "\n",
    "- <u>Hyperplane:</u> This is the boundary that separates data points from different classes\n",
    "- <u>Support vector:</u> These are the data points that are closes of the hyperplane\n",
    "- <u>Margin:</u> is a separation gap between the two lines on the closest data points.\n",
    "\n",
    "I will implement a SVM algorithm with Python and Scikit-Learn. Link to documentation [here.](https://scikit-learn.org/stable/modules/generated/sklearn.svm.SVC.html)\n",
    "\n",
    "## 3. Fine-tunning the models\n",
    "\n",
    "To find the best possible combination of parameters first, I will split the data set into train and test with a 70/30 percent proportion. Then I will apply cross-validation on the training dataset using the GridSearchCV function from the Scikit-Learn library. Link to the documentation [here](https://scikitlearn.org/stable/modules/generated/sklearn.model_selection.GridSearchCV.html)"
   ]
  },
  {
   "cell_type": "markdown",
   "id": "234cf736",
   "metadata": {},
   "source": [
    "# 4. Load data and perform exploratory analysis"
   ]
  },
  {
   "cell_type": "code",
   "execution_count": 1,
   "id": "ded22750",
   "metadata": {},
   "outputs": [],
   "source": [
    "# General libraries\n",
    "import numpy as np\n",
    "import pandas as pd\n",
    "\n",
    "#Plot libraries\n",
    "import seaborn as sns\n",
    "\n",
    "#Analytics libraries\n",
    "from sklearn.neighbors import KNeighborsClassifier\n",
    "from sklearn import tree\n",
    "from sklearn.svm import SVC\n",
    "from sklearn import metrics\n",
    "from sklearn.model_selection import train_test_split\n",
    "from sklearn.model_selection import GridSearchCV\n",
    "from sklearn.model_selection import RandomizedSearchCV\n",
    "from sklearn.metrics import confusion_matrix\n",
    "from sklearn.metrics import classification_report\n",
    "from sklearn.tree import DecisionTreeClassifier"
   ]
  },
  {
   "cell_type": "code",
   "execution_count": 2,
   "id": "19a23f15",
   "metadata": {},
   "outputs": [],
   "source": [
    "import warnings\n",
    "warnings.filterwarnings(\"ignore\")"
   ]
  },
  {
   "cell_type": "code",
   "execution_count": 3,
   "id": "532ac535",
   "metadata": {},
   "outputs": [],
   "source": [
    "#Load data and\n",
    "data = pd.read_csv(\"DrugUse.csv\", sep=\";\")"
   ]
  },
  {
   "cell_type": "code",
   "execution_count": 4,
   "id": "751c459d",
   "metadata": {},
   "outputs": [
    {
     "data": {
      "text/html": [
       "<div>\n",
       "<style scoped>\n",
       "    .dataframe tbody tr th:only-of-type {\n",
       "        vertical-align: middle;\n",
       "    }\n",
       "\n",
       "    .dataframe tbody tr th {\n",
       "        vertical-align: top;\n",
       "    }\n",
       "\n",
       "    .dataframe thead th {\n",
       "        text-align: right;\n",
       "    }\n",
       "</style>\n",
       "<table border=\"1\" class=\"dataframe\">\n",
       "  <thead>\n",
       "    <tr style=\"text-align: right;\">\n",
       "      <th></th>\n",
       "      <th>Age</th>\n",
       "      <th>Education</th>\n",
       "      <th>Country</th>\n",
       "      <th>Ethnicity</th>\n",
       "      <th>Nscore</th>\n",
       "      <th>Escore</th>\n",
       "      <th>Oscore</th>\n",
       "      <th>Ascore</th>\n",
       "      <th>Cscore</th>\n",
       "      <th>Impulsive</th>\n",
       "      <th>SS</th>\n",
       "      <th>Class</th>\n",
       "    </tr>\n",
       "  </thead>\n",
       "  <tbody>\n",
       "    <tr>\n",
       "      <th>0</th>\n",
       "      <td>0.49788</td>\n",
       "      <td>-122.75100</td>\n",
       "      <td>0.96082</td>\n",
       "      <td>-0.31685</td>\n",
       "      <td>0.31287</td>\n",
       "      <td>-0.69509</td>\n",
       "      <td>-0.45174</td>\n",
       "      <td>-0.45321</td>\n",
       "      <td>-0.14277</td>\n",
       "      <td>0.19268</td>\n",
       "      <td>0.76540</td>\n",
       "      <td>0</td>\n",
       "    </tr>\n",
       "    <tr>\n",
       "      <th>1</th>\n",
       "      <td>109.44900</td>\n",
       "      <td>-0.05921</td>\n",
       "      <td>0.96082</td>\n",
       "      <td>-0.31685</td>\n",
       "      <td>-155.07800</td>\n",
       "      <td>0.96248</td>\n",
       "      <td>-0.31776</td>\n",
       "      <td>-0.45321</td>\n",
       "      <td>0.25953</td>\n",
       "      <td>-0.21712</td>\n",
       "      <td>-154.85800</td>\n",
       "      <td>0</td>\n",
       "    </tr>\n",
       "    <tr>\n",
       "      <th>2</th>\n",
       "      <td>0.49788</td>\n",
       "      <td>-0.05921</td>\n",
       "      <td>0.96082</td>\n",
       "      <td>-0.31685</td>\n",
       "      <td>0.31287</td>\n",
       "      <td>-123.17700</td>\n",
       "      <td>-0.01928</td>\n",
       "      <td>0.76096</td>\n",
       "      <td>0.12331</td>\n",
       "      <td>-0.71126</td>\n",
       "      <td>-0.84637</td>\n",
       "      <td>0</td>\n",
       "    </tr>\n",
       "    <tr>\n",
       "      <th>3</th>\n",
       "      <td>0.49788</td>\n",
       "      <td>-0.05921</td>\n",
       "      <td>0.24923</td>\n",
       "      <td>-0.31685</td>\n",
       "      <td>0.62967</td>\n",
       "      <td>257.30900</td>\n",
       "      <td>-0.97631</td>\n",
       "      <td>0.76096</td>\n",
       "      <td>113.40700</td>\n",
       "      <td>-137.98300</td>\n",
       "      <td>-154.85800</td>\n",
       "      <td>0</td>\n",
       "    </tr>\n",
       "    <tr>\n",
       "      <th>4</th>\n",
       "      <td>-0.95197</td>\n",
       "      <td>0.45468</td>\n",
       "      <td>-0.28519</td>\n",
       "      <td>-0.31685</td>\n",
       "      <td>0.22393</td>\n",
       "      <td>0.32197</td>\n",
       "      <td>244.90400</td>\n",
       "      <td>0.43852</td>\n",
       "      <td>-164.10100</td>\n",
       "      <td>0.19268</td>\n",
       "      <td>-0.21575</td>\n",
       "      <td>0</td>\n",
       "    </tr>\n",
       "    <tr>\n",
       "      <th>...</th>\n",
       "      <td>...</td>\n",
       "      <td>...</td>\n",
       "      <td>...</td>\n",
       "      <td>...</td>\n",
       "      <td>...</td>\n",
       "      <td>...</td>\n",
       "      <td>...</td>\n",
       "      <td>...</td>\n",
       "      <td>...</td>\n",
       "      <td>...</td>\n",
       "      <td>...</td>\n",
       "      <td>...</td>\n",
       "    </tr>\n",
       "    <tr>\n",
       "      <th>7995</th>\n",
       "      <td>-0.07854</td>\n",
       "      <td>-17.37900</td>\n",
       "      <td>0.96082</td>\n",
       "      <td>-0.31685</td>\n",
       "      <td>0.91093</td>\n",
       "      <td>-0.15487</td>\n",
       "      <td>-221.06900</td>\n",
       "      <td>0.28783</td>\n",
       "      <td>130.61200</td>\n",
       "      <td>-137.98300</td>\n",
       "      <td>-207.84800</td>\n",
       "      <td>0</td>\n",
       "    </tr>\n",
       "    <tr>\n",
       "      <th>7996</th>\n",
       "      <td>-0.07854</td>\n",
       "      <td>198.43700</td>\n",
       "      <td>0.96082</td>\n",
       "      <td>-0.31685</td>\n",
       "      <td>-221.84400</td>\n",
       "      <td>-0.94779</td>\n",
       "      <td>-0.71727</td>\n",
       "      <td>0.13136</td>\n",
       "      <td>-0.52745</td>\n",
       "      <td>-0.71126</td>\n",
       "      <td>0.76540</td>\n",
       "      <td>0</td>\n",
       "    </tr>\n",
       "    <tr>\n",
       "      <th>7997</th>\n",
       "      <td>109.44900</td>\n",
       "      <td>116.36500</td>\n",
       "      <td>0.96082</td>\n",
       "      <td>-0.31685</td>\n",
       "      <td>102.11900</td>\n",
       "      <td>-0.15487</td>\n",
       "      <td>0.29338</td>\n",
       "      <td>111.40600</td>\n",
       "      <td>146.19100</td>\n",
       "      <td>-137.98300</td>\n",
       "      <td>-154.85800</td>\n",
       "      <td>0</td>\n",
       "    </tr>\n",
       "    <tr>\n",
       "      <th>7998</th>\n",
       "      <td>109.44900</td>\n",
       "      <td>-0.05921</td>\n",
       "      <td>0.96082</td>\n",
       "      <td>-0.31685</td>\n",
       "      <td>-0.92104</td>\n",
       "      <td>-0.30033</td>\n",
       "      <td>-155.52100</td>\n",
       "      <td>-0.01729</td>\n",
       "      <td>0.12331</td>\n",
       "      <td>-137.98300</td>\n",
       "      <td>-154.85800</td>\n",
       "      <td>0</td>\n",
       "    </tr>\n",
       "    <tr>\n",
       "      <th>7999</th>\n",
       "      <td>0.49788</td>\n",
       "      <td>0.45468</td>\n",
       "      <td>0.96082</td>\n",
       "      <td>-0.31685</td>\n",
       "      <td>-0.14882</td>\n",
       "      <td>0.47617</td>\n",
       "      <td>0.88309</td>\n",
       "      <td>-107.53300</td>\n",
       "      <td>-10.14500</td>\n",
       "      <td>0.19268</td>\n",
       "      <td>0.40148</td>\n",
       "      <td>0</td>\n",
       "    </tr>\n",
       "  </tbody>\n",
       "</table>\n",
       "<p>8000 rows × 12 columns</p>\n",
       "</div>"
      ],
      "text/plain": [
       "            Age  Education   Country  Ethnicity     Nscore     Escore  \\\n",
       "0       0.49788 -122.75100   0.96082   -0.31685    0.31287   -0.69509   \n",
       "1     109.44900   -0.05921   0.96082   -0.31685 -155.07800    0.96248   \n",
       "2       0.49788   -0.05921   0.96082   -0.31685    0.31287 -123.17700   \n",
       "3       0.49788   -0.05921   0.24923   -0.31685    0.62967  257.30900   \n",
       "4      -0.95197    0.45468  -0.28519   -0.31685    0.22393    0.32197   \n",
       "...         ...        ...       ...        ...        ...        ...   \n",
       "7995   -0.07854  -17.37900   0.96082   -0.31685    0.91093   -0.15487   \n",
       "7996   -0.07854  198.43700   0.96082   -0.31685 -221.84400   -0.94779   \n",
       "7997  109.44900  116.36500   0.96082   -0.31685  102.11900   -0.15487   \n",
       "7998  109.44900   -0.05921   0.96082   -0.31685   -0.92104   -0.30033   \n",
       "7999    0.49788    0.45468   0.96082   -0.31685   -0.14882    0.47617   \n",
       "\n",
       "         Oscore     Ascore     Cscore  Impulsive         SS  Class  \n",
       "0      -0.45174   -0.45321   -0.14277    0.19268    0.76540      0  \n",
       "1      -0.31776   -0.45321    0.25953   -0.21712 -154.85800      0  \n",
       "2      -0.01928    0.76096    0.12331   -0.71126   -0.84637      0  \n",
       "3      -0.97631    0.76096  113.40700 -137.98300 -154.85800      0  \n",
       "4     244.90400    0.43852 -164.10100    0.19268   -0.21575      0  \n",
       "...         ...        ...        ...        ...        ...    ...  \n",
       "7995 -221.06900    0.28783  130.61200 -137.98300 -207.84800      0  \n",
       "7996   -0.71727    0.13136   -0.52745   -0.71126    0.76540      0  \n",
       "7997    0.29338  111.40600  146.19100 -137.98300 -154.85800      0  \n",
       "7998 -155.52100   -0.01729    0.12331 -137.98300 -154.85800      0  \n",
       "7999    0.88309 -107.53300  -10.14500    0.19268    0.40148      0  \n",
       "\n",
       "[8000 rows x 12 columns]"
      ]
     },
     "execution_count": 4,
     "metadata": {},
     "output_type": "execute_result"
    }
   ],
   "source": [
    "#Print shape and top/bottom 5 rows\n",
    "data"
   ]
  },
  {
   "cell_type": "code",
   "execution_count": 5,
   "id": "348aef36",
   "metadata": {},
   "outputs": [
    {
     "name": "stdout",
     "output_type": "stream",
     "text": [
      "<class 'pandas.core.frame.DataFrame'>\n",
      "RangeIndex: 8000 entries, 0 to 7999\n",
      "Data columns (total 12 columns):\n",
      " #   Column     Non-Null Count  Dtype  \n",
      "---  ------     --------------  -----  \n",
      " 0   Age        8000 non-null   float64\n",
      " 1   Education  8000 non-null   float64\n",
      " 2    Country   8000 non-null   float64\n",
      " 3   Ethnicity  8000 non-null   float64\n",
      " 4   Nscore     8000 non-null   float64\n",
      " 5   Escore     8000 non-null   float64\n",
      " 6   Oscore     8000 non-null   float64\n",
      " 7   Ascore     8000 non-null   float64\n",
      " 8   Cscore     8000 non-null   float64\n",
      " 9   Impulsive  8000 non-null   float64\n",
      " 10  SS         8000 non-null   float64\n",
      " 11  Class      8000 non-null   int64  \n",
      "dtypes: float64(11), int64(1)\n",
      "memory usage: 750.1 KB\n"
     ]
    }
   ],
   "source": [
    "#Print the summary of the dataset \n",
    "data.info()"
   ]
  },
  {
   "cell_type": "code",
   "execution_count": 6,
   "id": "745f3af7",
   "metadata": {},
   "outputs": [
    {
     "data": {
      "text/html": [
       "<div>\n",
       "<style scoped>\n",
       "    .dataframe tbody tr th:only-of-type {\n",
       "        vertical-align: middle;\n",
       "    }\n",
       "\n",
       "    .dataframe tbody tr th {\n",
       "        vertical-align: top;\n",
       "    }\n",
       "\n",
       "    .dataframe thead th {\n",
       "        text-align: right;\n",
       "    }\n",
       "</style>\n",
       "<table border=\"1\" class=\"dataframe\">\n",
       "  <thead>\n",
       "    <tr style=\"text-align: right;\">\n",
       "      <th></th>\n",
       "      <th>Age</th>\n",
       "      <th>Education</th>\n",
       "      <th>Country</th>\n",
       "      <th>Ethnicity</th>\n",
       "      <th>Nscore</th>\n",
       "      <th>Escore</th>\n",
       "      <th>Oscore</th>\n",
       "      <th>Ascore</th>\n",
       "      <th>Cscore</th>\n",
       "      <th>Impulsive</th>\n",
       "      <th>SS</th>\n",
       "      <th>Class</th>\n",
       "    </tr>\n",
       "  </thead>\n",
       "  <tbody>\n",
       "    <tr>\n",
       "      <th>count</th>\n",
       "      <td>8000.00</td>\n",
       "      <td>8000.00</td>\n",
       "      <td>8000.00</td>\n",
       "      <td>8000.00</td>\n",
       "      <td>8000.00</td>\n",
       "      <td>8000.00</td>\n",
       "      <td>8000.00</td>\n",
       "      <td>8000.00</td>\n",
       "      <td>8000.00</td>\n",
       "      <td>8000.00</td>\n",
       "      <td>8000.00</td>\n",
       "      <td>8000.00</td>\n",
       "    </tr>\n",
       "    <tr>\n",
       "      <th>mean</th>\n",
       "      <td>26.90</td>\n",
       "      <td>11.27</td>\n",
       "      <td>0.32</td>\n",
       "      <td>-1.74</td>\n",
       "      <td>1.84</td>\n",
       "      <td>-2.38</td>\n",
       "      <td>5.59</td>\n",
       "      <td>0.49</td>\n",
       "      <td>1.45</td>\n",
       "      <td>1.26</td>\n",
       "      <td>-8.07</td>\n",
       "      <td>0.49</td>\n",
       "    </tr>\n",
       "    <tr>\n",
       "      <th>std</th>\n",
       "      <td>57.47</td>\n",
       "      <td>73.92</td>\n",
       "      <td>0.71</td>\n",
       "      <td>14.89</td>\n",
       "      <td>83.57</td>\n",
       "      <td>78.75</td>\n",
       "      <td>88.08</td>\n",
       "      <td>81.47</td>\n",
       "      <td>87.12</td>\n",
       "      <td>84.44</td>\n",
       "      <td>75.39</td>\n",
       "      <td>0.50</td>\n",
       "    </tr>\n",
       "    <tr>\n",
       "      <th>min</th>\n",
       "      <td>-0.95</td>\n",
       "      <td>-243.59</td>\n",
       "      <td>-0.57</td>\n",
       "      <td>-110.70</td>\n",
       "      <td>-346.44</td>\n",
       "      <td>-327.39</td>\n",
       "      <td>-327.39</td>\n",
       "      <td>-346.44</td>\n",
       "      <td>-346.44</td>\n",
       "      <td>-255.52</td>\n",
       "      <td>-207.85</td>\n",
       "      <td>0.00</td>\n",
       "    </tr>\n",
       "    <tr>\n",
       "      <th>25%</th>\n",
       "      <td>-0.95</td>\n",
       "      <td>-0.61</td>\n",
       "      <td>-0.57</td>\n",
       "      <td>-0.32</td>\n",
       "      <td>-0.68</td>\n",
       "      <td>-0.70</td>\n",
       "      <td>-0.58</td>\n",
       "      <td>-0.76</td>\n",
       "      <td>-0.65</td>\n",
       "      <td>-0.71</td>\n",
       "      <td>-0.53</td>\n",
       "      <td>0.00</td>\n",
       "    </tr>\n",
       "    <tr>\n",
       "      <th>50%</th>\n",
       "      <td>-0.08</td>\n",
       "      <td>-0.06</td>\n",
       "      <td>0.96</td>\n",
       "      <td>-0.32</td>\n",
       "      <td>0.04</td>\n",
       "      <td>0.00</td>\n",
       "      <td>-0.02</td>\n",
       "      <td>-0.02</td>\n",
       "      <td>-0.01</td>\n",
       "      <td>0.19</td>\n",
       "      <td>0.08</td>\n",
       "      <td>0.00</td>\n",
       "    </tr>\n",
       "    <tr>\n",
       "      <th>75%</th>\n",
       "      <td>0.50</td>\n",
       "      <td>0.45</td>\n",
       "      <td>0.96</td>\n",
       "      <td>-0.32</td>\n",
       "      <td>0.74</td>\n",
       "      <td>0.64</td>\n",
       "      <td>0.72</td>\n",
       "      <td>0.76</td>\n",
       "      <td>0.58</td>\n",
       "      <td>0.88</td>\n",
       "      <td>0.77</td>\n",
       "      <td>1.00</td>\n",
       "    </tr>\n",
       "    <tr>\n",
       "      <th>max</th>\n",
       "      <td>259.17</td>\n",
       "      <td>198.44</td>\n",
       "      <td>0.96</td>\n",
       "      <td>190.72</td>\n",
       "      <td>327.39</td>\n",
       "      <td>327.39</td>\n",
       "      <td>290.16</td>\n",
       "      <td>346.44</td>\n",
       "      <td>346.44</td>\n",
       "      <td>290.16</td>\n",
       "      <td>192.17</td>\n",
       "      <td>1.00</td>\n",
       "    </tr>\n",
       "  </tbody>\n",
       "</table>\n",
       "</div>"
      ],
      "text/plain": [
       "           Age  Education   Country  Ethnicity   Nscore   Escore   Oscore  \\\n",
       "count  8000.00    8000.00   8000.00    8000.00  8000.00  8000.00  8000.00   \n",
       "mean     26.90      11.27      0.32      -1.74     1.84    -2.38     5.59   \n",
       "std      57.47      73.92      0.71      14.89    83.57    78.75    88.08   \n",
       "min      -0.95    -243.59     -0.57    -110.70  -346.44  -327.39  -327.39   \n",
       "25%      -0.95      -0.61     -0.57      -0.32    -0.68    -0.70    -0.58   \n",
       "50%      -0.08      -0.06      0.96      -0.32     0.04     0.00    -0.02   \n",
       "75%       0.50       0.45      0.96      -0.32     0.74     0.64     0.72   \n",
       "max     259.17     198.44      0.96     190.72   327.39   327.39   290.16   \n",
       "\n",
       "        Ascore   Cscore  Impulsive       SS    Class  \n",
       "count  8000.00  8000.00    8000.00  8000.00  8000.00  \n",
       "mean      0.49     1.45       1.26    -8.07     0.49  \n",
       "std      81.47    87.12      84.44    75.39     0.50  \n",
       "min    -346.44  -346.44    -255.52  -207.85     0.00  \n",
       "25%      -0.76    -0.65      -0.71    -0.53     0.00  \n",
       "50%      -0.02    -0.01       0.19     0.08     0.00  \n",
       "75%       0.76     0.58       0.88     0.77     1.00  \n",
       "max     346.44   346.44     290.16   192.17     1.00  "
      ]
     },
     "execution_count": 6,
     "metadata": {},
     "output_type": "execute_result"
    }
   ],
   "source": [
    "#Summary statistics of the dataset\n",
    "round(data.describe(),2)"
   ]
  },
  {
   "cell_type": "code",
   "execution_count": 7,
   "id": "7eae0a60",
   "metadata": {},
   "outputs": [
    {
     "data": {
      "text/plain": [
       "0    4100\n",
       "1    3900\n",
       "Name: Class, dtype: int64"
      ]
     },
     "execution_count": 7,
     "metadata": {},
     "output_type": "execute_result"
    }
   ],
   "source": [
    "#Count the number of observations for each target class\n",
    "data[\"Class\"].value_counts()"
   ]
  },
  {
   "cell_type": "code",
   "execution_count": 8,
   "id": "202f9a2d",
   "metadata": {},
   "outputs": [
    {
     "data": {
      "text/plain": [
       "Index([], dtype='object')"
      ]
     },
     "execution_count": 8,
     "metadata": {},
     "output_type": "execute_result"
    }
   ],
   "source": [
    "# Check for missing values\n",
    "\n",
    "#Get the columsn that have missing values\n",
    "data_null = data.columns[data.isnull().any()]\n",
    "data_null"
   ]
  },
  {
   "cell_type": "code",
   "execution_count": 9,
   "id": "af5e485e",
   "metadata": {},
   "outputs": [],
   "source": [
    "#Split dataset into training set and test set \n",
    "X_train, X_test, y_train, y_test = train_test_split(data, data[\"Class\"], test_size = 0.3) # 70% train and 30% test"
   ]
  },
  {
   "cell_type": "code",
   "execution_count": 10,
   "id": "2524c8d6",
   "metadata": {},
   "outputs": [
    {
     "name": "stdout",
     "output_type": "stream",
     "text": [
      "X_test shape is = (5600, 12)\n",
      "y_train shape is = (5600,)\n",
      "X_train shape is = (2400, 12)\n",
      "y_test shape is = (2400,)\n"
     ]
    }
   ],
   "source": [
    "#Print shape of train and test  datasets\n",
    "print(\"X_test shape is = \" + str(X_train.shape))\n",
    "print(\"y_train shape is = \" + str(y_train.shape))\n",
    "print(\"X_train shape is = \" + str(X_test.shape))\n",
    "print(\"y_test shape is = \" + str(y_test.shape))"
   ]
  },
  {
   "cell_type": "markdown",
   "id": "5906cc41",
   "metadata": {},
   "source": [
    "# 1. K-nearest neighbors"
   ]
  },
  {
   "cell_type": "code",
   "execution_count": 11,
   "id": "f42f2b99",
   "metadata": {},
   "outputs": [],
   "source": [
    "#Initiate the KKN model with default paramenters\n",
    "initial_KNN = KNeighborsClassifier()\n",
    "\n",
    "#Create a dictionary with the ragen of paramenters we want to test\n",
    "param_dict_KNN = {\n",
    "    \"n_neighbors\": range(1,10),\n",
    "    \"weights\": [\"uniform\", \"distance\"],\n",
    "    \"algorithm\": [\"ball_tree\", \"kd_tree\", \"brute\"],\n",
    "    \"leaf_size\": range(1,10)\n",
    "}"
   ]
  },
  {
   "cell_type": "code",
   "execution_count": 12,
   "id": "2a4bb33c",
   "metadata": {},
   "outputs": [
    {
     "data": {
      "text/plain": [
       "GridSearchCV(cv=5, estimator=KNeighborsClassifier(), n_jobs=-1,\n",
       "             param_grid={'algorithm': ['ball_tree', 'kd_tree', 'brute'],\n",
       "                         'leaf_size': range(1, 10), 'n_neighbors': range(1, 10),\n",
       "                         'weights': ['uniform', 'distance']},\n",
       "             scoring='accuracy')"
      ]
     },
     "execution_count": 12,
     "metadata": {},
     "output_type": "execute_result"
    }
   ],
   "source": [
    "#Create a GridSearch object with the parameters specified above\n",
    "grid_search_KNN = GridSearchCV(estimator = initial_KNN, \n",
    "                               param_grid = param_dict_KNN, \n",
    "                               scoring = \"accuracy\", \n",
    "                               cv = 5,\n",
    "                               verbose = 0,\n",
    "                               n_jobs = -1)\n",
    "\n",
    "#Fit the GridSearch object on the train data to find the best combination of parameters\n",
    "grid_search_KNN.fit(X_train, y_train)"
   ]
  },
  {
   "cell_type": "code",
   "execution_count": 13,
   "id": "c8db56f2",
   "metadata": {},
   "outputs": [
    {
     "data": {
      "text/plain": [
       "{'algorithm': 'ball_tree',\n",
       " 'leaf_size': 1,\n",
       " 'n_neighbors': 8,\n",
       " 'weights': 'distance'}"
      ]
     },
     "execution_count": 13,
     "metadata": {},
     "output_type": "execute_result"
    }
   ],
   "source": [
    "#Print the best paramenters of the model \n",
    "grid_search_KNN.best_params_"
   ]
  },
  {
   "cell_type": "code",
   "execution_count": 14,
   "id": "409d6b2b",
   "metadata": {},
   "outputs": [
    {
     "data": {
      "text/plain": [
       "KNeighborsClassifier(algorithm='ball_tree', leaf_size=1, n_neighbors=8,\n",
       "                     weights='distance')"
      ]
     },
     "execution_count": 14,
     "metadata": {},
     "output_type": "execute_result"
    }
   ],
   "source": [
    "#Create the KNN model using the above parameters\n",
    "final_KNN = KNeighborsClassifier(n_neighbors = 8, \n",
    "                                 weights = \"distance\", \n",
    "                                 algorithm = \"ball_tree\", \n",
    "                                 leaf_size = 1)\n",
    "\n",
    "#Fit the model using the tran dataset \n",
    "final_KNN.fit(X_train, y_train)"
   ]
  },
  {
   "cell_type": "code",
   "execution_count": 15,
   "id": "0eb133c6",
   "metadata": {},
   "outputs": [],
   "source": [
    "#Calcualte predicted values using the test dataset\n",
    "y_pred_KNN = final_KNN.predict(X_test)"
   ]
  },
  {
   "cell_type": "code",
   "execution_count": 16,
   "id": "db88fee9",
   "metadata": {},
   "outputs": [
    {
     "name": "stdout",
     "output_type": "stream",
     "text": [
      "The accuracy of the KNN model in the test dataset is: 98.46%\n"
     ]
    }
   ],
   "source": [
    "#Print the accuracy of the model on the test dataset\n",
    "KNN_accuracy = metrics.accuracy_score(y_test, y_pred_KNN)*100\n",
    "print(\"The accuracy of the KNN model in the test dataset is: {:.2f}%\".format(KNN_accuracy))"
   ]
  },
  {
   "cell_type": "code",
   "execution_count": 17,
   "id": "bc46f217",
   "metadata": {},
   "outputs": [
    {
     "data": {
      "text/plain": [
       "<AxesSubplot:>"
      ]
     },
     "execution_count": 17,
     "metadata": {},
     "output_type": "execute_result"
    },
    {
     "data": {
      "image/png": "[encoded data removed]",
      "text/plain": [
       "<Figure size 432x288 with 2 Axes>"
      ]
     },
     "metadata": {
      "needs_background": "light"
     },
     "output_type": "display_data"
    }
   ],
   "source": [
    "#Calculate the confusion matrix\n",
    "conf_matrix_KNN = confusion_matrix(y_test, y_pred_KNN)\n",
    "\n",
    "#Plot confusion matrix using seaborn heatmap\n",
    "\n",
    "cm_matrix_KNN = pd.DataFrame(data = conf_matrix_KNN, columns = ['Actual Positive:1', 'Actual Negative:0'], \n",
    "                                 index = ['Predict Positive:1', 'Predict Negative:0'])\n",
    "\n",
    "sns.heatmap(cm_matrix_KNN, annot = True, fmt = \"d\", cmap =\"YlGnBu\")"
   ]
  },
  {
   "cell_type": "code",
   "execution_count": 18,
   "id": "ed6fdea8",
   "metadata": {},
   "outputs": [
    {
     "name": "stdout",
     "output_type": "stream",
     "text": [
      "True positive (TP) is : 1229\n",
      "True negative (TN) is : 1134\n",
      "False positive (FP) is : 30\n",
      "False negative (FN) is : 7\n"
     ]
    }
   ],
   "source": [
    "#Print the four values of the confusion matrix\n",
    "TP_KNN = conf_matrix_KNN[0,0]\n",
    "TN_KNN = conf_matrix_KNN[1,1]\n",
    "FP_KNN = conf_matrix_KNN[0,1]\n",
    "FN_KNN = conf_matrix_KNN[1,0]\n",
    "\n",
    "print(\"True positive (TP) is : {}\".format(TP_KNN))\n",
    "print(\"True negative (TN) is : {}\".format(TN_KNN))\n",
    "print(\"False positive (FP) is : {}\".format(FP_KNN))\n",
    "print(\"False negative (FN) is : {}\".format(FN_KNN))"
   ]
  },
  {
   "cell_type": "code",
   "execution_count": 19,
   "id": "f9475740",
   "metadata": {},
   "outputs": [
    {
     "name": "stdout",
     "output_type": "stream",
     "text": [
      "The sensitivity for the KNN  model is : 99.43%\n",
      "The specificity for the KNN  model is : 97.42%\n",
      "The positive prediction rate for the KNN  model is : 97.62%\n",
      "The negative prediction rate for the KNN  model is : 99.39%\n"
     ]
    }
   ],
   "source": [
    "#Calculate sensitivity, specificity and the positive/negative prediction rate\n",
    "sensitivity_KNN = round((TP_KNN/(TP_KNN+FN_KNN))*100, 2)\n",
    "specificity_KNN = round((TN_KNN/(TN_KNN+FP_KNN))*100, 2)\n",
    "PositivePredictionRate_KNN = round((TP_KNN/(TP_KNN+FP_KNN))*100, 2)\n",
    "NegativePredictionRate_KNN = round((TN_KNN/(TN_KNN+FN_KNN))*100, 2)\n",
    "\n",
    "print(\"The sensitivity for the KNN  model is : {}%\".format(sensitivity_KNN))\n",
    "print(\"The specificity for the KNN  model is : {}%\".format(specificity_KNN))\n",
    "print(\"The positive prediction rate for the KNN  model is : {}%\".format(PositivePredictionRate_KNN))\n",
    "print(\"The negative prediction rate for the KNN  model is : {}%\".format(NegativePredictionRate_KNN))"
   ]
  },
  {
   "cell_type": "code",
   "execution_count": 20,
   "id": "1d37f9a4",
   "metadata": {},
   "outputs": [
    {
     "name": "stdout",
     "output_type": "stream",
     "text": [
      "              precision    recall  f1-score   support\n",
      "\n",
      "           0       0.99      0.98      0.99      1259\n",
      "           1       0.97      0.99      0.98      1141\n",
      "\n",
      "    accuracy                           0.98      2400\n",
      "   macro avg       0.98      0.99      0.98      2400\n",
      "weighted avg       0.98      0.98      0.98      2400\n",
      "\n"
     ]
    }
   ],
   "source": [
    "#We can also obtain the above resitls from the classification_report function\n",
    "print(classification_report(y_test, y_pred_KNN))"
   ]
  },
  {
   "cell_type": "markdown",
   "id": "931f0190",
   "metadata": {},
   "source": [
    "# 2. Decision Tree Classification"
   ]
  },
  {
   "cell_type": "code",
   "execution_count": 21,
   "id": "3f41d034",
   "metadata": {},
   "outputs": [],
   "source": [
    "#Initiate the KKN model with default paramenters\n",
    "initial_DecisionTree = DecisionTreeClassifier()\n",
    "\n",
    "#Create a dictionary with the ragen of paramenters we want to test\n",
    "param_dict_DT = {\n",
    "    \"criterion\": [\"gini\", \"entropy\"],\n",
    "    \"max_depth\": range(1,10),\n",
    "    \"min_samples_split\": range(1,10),\n",
    "    \"min_samples_leaf\": range(1,25)\n",
    "}"
   ]
  },
  {
   "cell_type": "code",
   "execution_count": 22,
   "id": "07325fd9",
   "metadata": {},
   "outputs": [
    {
     "data": {
      "text/plain": [
       "GridSearchCV(cv=5, estimator=DecisionTreeClassifier(), n_jobs=-1,\n",
       "             param_grid={'criterion': ['gini', 'entropy'],\n",
       "                         'max_depth': range(1, 10),\n",
       "                         'min_samples_leaf': range(1, 25),\n",
       "                         'min_samples_split': range(1, 10)},\n",
       "             scoring='accuracy')"
      ]
     },
     "execution_count": 22,
     "metadata": {},
     "output_type": "execute_result"
    }
   ],
   "source": [
    "#Create a GridSearch object with the parameters specified above\n",
    "grid_search_DT = GridSearchCV(estimator = initial_DecisionTree, \n",
    "                    param_grid = param_dict_DT,\n",
    "                    scoring = \"accuracy\",\n",
    "                    cv = 5,\n",
    "                    verbose = 0,\n",
    "                    n_jobs = -1)\n",
    "\n",
    "#Fit the GridSearch object on the train data to find the best combination of parameters\n",
    "grid_search_DT.fit(X_train, y_train)"
   ]
  },
  {
   "cell_type": "code",
   "execution_count": 23,
   "id": "1372f358",
   "metadata": {},
   "outputs": [
    {
     "data": {
      "text/plain": [
       "{'criterion': 'gini',\n",
       " 'max_depth': 1,\n",
       " 'min_samples_leaf': 1,\n",
       " 'min_samples_split': 2}"
      ]
     },
     "execution_count": 23,
     "metadata": {},
     "output_type": "execute_result"
    }
   ],
   "source": [
    "#Print the best paramenters of the model \n",
    "grid_search_DT.best_params_"
   ]
  },
  {
   "cell_type": "code",
   "execution_count": 24,
   "id": "a0a0a0d7",
   "metadata": {},
   "outputs": [
    {
     "data": {
      "text/plain": [
       "DecisionTreeClassifier(max_depth=1)"
      ]
     },
     "execution_count": 24,
     "metadata": {},
     "output_type": "execute_result"
    }
   ],
   "source": [
    "#Create the Decision Tree model using the above parameters\n",
    "decision_tree_final = DecisionTreeClassifier(criterion = \"gini\", \n",
    "                                             max_depth = 1, \n",
    "                                             min_samples_leaf = 1, \n",
    "                                             min_samples_split = 2)\n",
    "\n",
    "#Fit the model using the tran dataset \n",
    "decision_tree_final.fit(X_train, y_train)"
   ]
  },
  {
   "cell_type": "code",
   "execution_count": 25,
   "id": "52645838",
   "metadata": {},
   "outputs": [],
   "source": [
    "#Calcualte predicted values using the test dataset\n",
    "y_pred_DT = decision_tree_final.predict(X_test)"
   ]
  },
  {
   "cell_type": "code",
   "execution_count": 26,
   "id": "f08e7be7",
   "metadata": {},
   "outputs": [
    {
     "data": {
      "text/plain": [
       "[Text(167.4, 163.07999999999998, 'X[11] <= 0.5\\ngini = 0.5\\nsamples = 5600\\nvalue = [2841, 2759]'),\n",
       " Text(83.7, 54.360000000000014, 'gini = 0.0\\nsamples = 2841\\nvalue = [2841, 0]'),\n",
       " Text(251.10000000000002, 54.360000000000014, 'gini = 0.0\\nsamples = 2759\\nvalue = [0, 2759]')]"
      ]
     },
     "execution_count": 26,
     "metadata": {},
     "output_type": "execute_result"
    },
    {
     "data": {
      "image/png": "[encoded data removed]",
      "text/plain": [
       "<Figure size 432x288 with 1 Axes>"
      ]
     },
     "metadata": {
      "needs_background": "light"
     },
     "output_type": "display_data"
    }
   ],
   "source": [
    "#Plot the decision tree\n",
    "tree.plot_tree(decision_tree_final)"
   ]
  },
  {
   "cell_type": "code",
   "execution_count": 27,
   "id": "a10e7a8b",
   "metadata": {},
   "outputs": [
    {
     "name": "stdout",
     "output_type": "stream",
     "text": [
      "The accuracy of the Decision tree model in the test dataset is: 100.00%\n"
     ]
    }
   ],
   "source": [
    "#Print the accuracy of the model on the test dataset\n",
    "DT_accuracy = metrics.accuracy_score(y_test, y_pred_DT)*100\n",
    "print(\"The accuracy of the Decision tree model in the test dataset is: {:.2f}%\".format(DT_accuracy))"
   ]
  },
  {
   "cell_type": "code",
   "execution_count": 28,
   "id": "bf0d9e70",
   "metadata": {},
   "outputs": [
    {
     "data": {
      "text/plain": [
       "<AxesSubplot:>"
      ]
     },
     "execution_count": 28,
     "metadata": {},
     "output_type": "execute_result"
    },
    {
     "data": {
      "image/png": "[encoded data removed]",
      "text/plain": [
       "<Figure size 432x288 with 2 Axes>"
      ]
     },
     "metadata": {
      "needs_background": "light"
     },
     "output_type": "display_data"
    }
   ],
   "source": [
    "#Calculate the confusion matrix\n",
    "conf_matrix_DT = confusion_matrix(y_test, y_pred_DT)\n",
    "\n",
    "#Plot confusion matrix using seaborn heatmap\n",
    "\n",
    "cm_matrix_DT = pd.DataFrame(data = conf_matrix_DT, columns = [\"Actual Positive:1\", \"Actual Negative:0\"], \n",
    "                                 index = [\"Predict Positive:1\", \"Predict Negative:0\"])\n",
    "\n",
    "sns.heatmap(cm_matrix_DT, annot = True, fmt = \"d\", cmap =\"YlGnBu\")"
   ]
  },
  {
   "cell_type": "code",
   "execution_count": 29,
   "id": "61d44390",
   "metadata": {},
   "outputs": [
    {
     "name": "stdout",
     "output_type": "stream",
     "text": [
      "True positive (TP) is : 1259\n",
      "True negative (TN) is : 1141\n",
      "False positive (FP) is : 0\n",
      "False negative (FN) is : 0\n"
     ]
    }
   ],
   "source": [
    "#Print the four values of the confusion matrix\n",
    "TP_DT = conf_matrix_DT[0,0]\n",
    "TN_DT = conf_matrix_DT[1,1]\n",
    "FP_DT = conf_matrix_DT[0,1]\n",
    "FN_DT = conf_matrix_DT[1,0]\n",
    "\n",
    "print(\"True positive (TP) is : {}\".format(TP_DT))\n",
    "print(\"True negative (TN) is : {}\".format(TN_DT))\n",
    "print(\"False positive (FP) is : {}\".format(FP_DT))\n",
    "print(\"False negative (FN) is : {}\".format(FN_DT))"
   ]
  },
  {
   "cell_type": "code",
   "execution_count": 30,
   "id": "c519de26",
   "metadata": {},
   "outputs": [
    {
     "name": "stdout",
     "output_type": "stream",
     "text": [
      "The sensitivity for the decision tree model is : 100.0%\n",
      "The specificity for the decision tree model is : 100.0%\n",
      "The positive prediction rate for the decision tree model is : 100.0%\n",
      "The negative prediction rate for the decision tree model is : 100.0%\n"
     ]
    }
   ],
   "source": [
    "#Calculate sensitivity, specificity and the positive/negative prediction rate\n",
    "sensitivity_DT = round((TP_DT / (TP_DT + FN_DT))*100, 2)\n",
    "specificity_DT = round((TN_DT / (TN_DT + FP_DT))*100, 2)\n",
    "PositivePredictionRate_DT = round((TP_DT / (TP_DT + FP_DT))*100, 2)\n",
    "NegativePredictionRate_DT = round((TN_DT / (TN_DT + FN_DT))*100, 2)\n",
    "\n",
    "print(\"The sensitivity for the decision tree model is : {}%\".format(sensitivity_DT))\n",
    "print(\"The specificity for the decision tree model is : {}%\".format(specificity_DT))\n",
    "print(\"The positive prediction rate for the decision tree model is : {}%\".format(PositivePredictionRate_DT))\n",
    "print(\"The negative prediction rate for the decision tree model is : {}%\".format(NegativePredictionRate_DT))"
   ]
  },
  {
   "cell_type": "code",
   "execution_count": 31,
   "id": "cfa896db",
   "metadata": {},
   "outputs": [
    {
     "name": "stdout",
     "output_type": "stream",
     "text": [
      "              precision    recall  f1-score   support\n",
      "\n",
      "           0       1.00      1.00      1.00      1259\n",
      "           1       1.00      1.00      1.00      1141\n",
      "\n",
      "    accuracy                           1.00      2400\n",
      "   macro avg       1.00      1.00      1.00      2400\n",
      "weighted avg       1.00      1.00      1.00      2400\n",
      "\n"
     ]
    }
   ],
   "source": [
    "#We can also obtain the above resitls from the classification_report function\n",
    "print(classification_report(y_test, y_pred_DT))"
   ]
  },
  {
   "cell_type": "markdown",
   "id": "0923e183",
   "metadata": {},
   "source": [
    "# 3. Suport vector classification"
   ]
  },
  {
   "cell_type": "markdown",
   "id": "8855fe64",
   "metadata": {},
   "source": [
    "**Note:** When we run GridSearchCV we need to keep in mind that the number of interactions require grows exponentially depending on the number of parameters and different options for each of them. For SVC the running time was substantially higher compared to the previous two models. To mitigate this, I ran separately three different SVC with a different kernel. In this case, the kernel that returned the highest accuracy was the Radial basis function. Now we can run GridSearchCV with a smaller number of parameters. "
   ]
  },
  {
   "cell_type": "code",
   "execution_count": 32,
   "id": "8bcc0a3a",
   "metadata": {},
   "outputs": [
    {
     "data": {
      "text/plain": [
       "77.16666666666666"
      ]
     },
     "execution_count": 32,
     "metadata": {},
     "output_type": "execute_result"
    }
   ],
   "source": [
    "#Run SVC with a Radial basis function kernel \n",
    "svc_rbf = SVC(kernel = \"rbf\") \n",
    "\n",
    "#Fit classifier to training set\n",
    "svc_rbf.fit(X_train,y_train)\n",
    "\n",
    "#Make predictions on test set\n",
    "y_pred = svc_rbf.predict(X_test)\n",
    "\n",
    "#Print the accuracy of the model on the test dataset\n",
    "svc_rbf_accuracy = metrics.accuracy_score(y_test, y_pred)*100\n",
    "svc_rbf_accuracy"
   ]
  },
  {
   "cell_type": "code",
   "execution_count": 33,
   "id": "7699f164",
   "metadata": {},
   "outputs": [
    {
     "data": {
      "text/plain": [
       "72.875"
      ]
     },
     "execution_count": 33,
     "metadata": {},
     "output_type": "execute_result"
    }
   ],
   "source": [
    "#Run SVC with a Polynomial kernel \n",
    "svc_poly = SVC(kernel = \"poly\") \n",
    "\n",
    "#Fit classifier to training set\n",
    "svc_poly.fit(X_train,y_train)\n",
    "\n",
    "#Make predictions on test set\n",
    "y_pred = svc_poly.predict(X_test)\n",
    "\n",
    "#Print the accuracy of the model on the test dataset\n",
    "svc_poly_accuracy = metrics.accuracy_score(y_test, y_pred)*100\n",
    "svc_poly_accuracy"
   ]
  },
  {
   "cell_type": "code",
   "execution_count": 34,
   "id": "61552979",
   "metadata": {},
   "outputs": [
    {
     "data": {
      "text/plain": [
       "63.16666666666667"
      ]
     },
     "execution_count": 34,
     "metadata": {},
     "output_type": "execute_result"
    }
   ],
   "source": [
    "#Run SVC with a Polynomial kernel \n",
    "svc_sigmoid = SVC(kernel = \"sigmoid\") \n",
    "\n",
    "#Fit classifier to training set\n",
    "svc_sigmoid.fit(X_train,y_train)\n",
    "\n",
    "#Make predictions on test set\n",
    "y_pred = svc_sigmoid.predict(X_test)\n",
    "\n",
    "#Print the accuracy of the model on the test dataset\n",
    "svc_sigmoid_accuracy = metrics.accuracy_score(y_test, y_pred)*100\n",
    "svc_sigmoid_accuracy"
   ]
  },
  {
   "cell_type": "code",
   "execution_count": 35,
   "id": "90418fca",
   "metadata": {},
   "outputs": [],
   "source": [
    "#Initiate the model with all default paramenters \n",
    "initial_svc = SVC() \n",
    "\n",
    "#Create a dictionary with the ragen of paramenters we want to test.\n",
    "param_dict_svc = {\n",
    "    \"C\": [0.1, 1, 10, 100],\n",
    "    \"kernel\": [\"rbf\"],\n",
    "    \"gamma\": [1, 0.1, 0.01, 0.001]\n",
    "}             "
   ]
  },
  {
   "cell_type": "code",
   "execution_count": 36,
   "id": "d50e803e",
   "metadata": {},
   "outputs": [
    {
     "data": {
      "text/plain": [
       "GridSearchCV(cv=5, estimator=SVC(), n_jobs=-1,\n",
       "             param_grid={'C': [0.1, 1, 10, 100], 'gamma': [1, 0.1, 0.01, 0.001],\n",
       "                         'kernel': ['rbf']},\n",
       "             scoring='accuracy')"
      ]
     },
     "execution_count": 36,
     "metadata": {},
     "output_type": "execute_result"
    }
   ],
   "source": [
    "#Create a GridSearch object with the parameters specified above\n",
    "grid_search_svc = GridSearchCV(estimator = initial_svc,  \n",
    "                           param_grid = param_dict_svc,\n",
    "                           scoring = \"accuracy\",\n",
    "                           cv = 5,\n",
    "                           verbose = 0,\n",
    "                           n_jobs = -1)\n",
    "\n",
    "#Fit the GridSearch object on the train data to find the best combination of parameters\n",
    "grid_search_svc.fit(X_train, y_train)"
   ]
  },
  {
   "cell_type": "code",
   "execution_count": 37,
   "id": "cf8dcb24",
   "metadata": {},
   "outputs": [
    {
     "data": {
      "text/plain": [
       "{'C': 10, 'gamma': 0.1, 'kernel': 'rbf'}"
      ]
     },
     "execution_count": 37,
     "metadata": {},
     "output_type": "execute_result"
    }
   ],
   "source": [
    "#Print the best paramenters of the model \n",
    "grid_search_svc.best_params_"
   ]
  },
  {
   "cell_type": "code",
   "execution_count": 38,
   "id": "439788b2",
   "metadata": {},
   "outputs": [
    {
     "data": {
      "text/plain": [
       "SVC(C=10, gamma=1)"
      ]
     },
     "execution_count": 38,
     "metadata": {},
     "output_type": "execute_result"
    }
   ],
   "source": [
    "#Create the Suport Vector Machine model using the above parameters\n",
    "svc_final = SVC(C=10, gamma=1, kernel=\"rbf\")\n",
    "\n",
    "#Fit the model using the tran dataset \n",
    "svc_final.fit(X_train, y_train)"
   ]
  },
  {
   "cell_type": "code",
   "execution_count": 39,
   "id": "cb6063bf",
   "metadata": {},
   "outputs": [],
   "source": [
    "#Calcualte predicted values using the test dataset\n",
    "y_pred_svc = svc_final.predict(X_test)"
   ]
  },
  {
   "cell_type": "code",
   "execution_count": 40,
   "id": "5465eb27",
   "metadata": {},
   "outputs": [
    {
     "name": "stdout",
     "output_type": "stream",
     "text": [
      "The accuracy of the Suport Vector Machine model in the test dataset is: 99.25%\n"
     ]
    }
   ],
   "source": [
    "#Print the accuracy of the model on the test dataset\n",
    "svc_accuracy = metrics.accuracy_score(y_test, y_pred_svc)*100\n",
    "print(\"The accuracy of the Suport Vector Machine model in the test dataset is: {:.2f}%\".format(svc_accuracy))"
   ]
  },
  {
   "cell_type": "code",
   "execution_count": 41,
   "id": "0e672d25",
   "metadata": {},
   "outputs": [
    {
     "data": {
      "text/plain": [
       "<AxesSubplot:>"
      ]
     },
     "execution_count": 41,
     "metadata": {},
     "output_type": "execute_result"
    },
    {
     "data": {
      "image/png": "[encoded data removed]",
      "text/plain": [
       "<Figure size 432x288 with 2 Axes>"
      ]
     },
     "metadata": {
      "needs_background": "light"
     },
     "output_type": "display_data"
    }
   ],
   "source": [
    "#Calculate the confusion matrix\n",
    "conf_matrix_svc = confusion_matrix(y_test, y_pred_svc)\n",
    "\n",
    "#Plot confusion matrix using seaborn heatmap\n",
    "\n",
    "cm_matrix_svc = pd.DataFrame(data = conf_matrix_svc, columns = ['Actual Positive:1', 'Actual Negative:0'], \n",
    "                                 index = ['Predict Positive:1', 'Predict Negative:0'])\n",
    "\n",
    "sns.heatmap(cm_matrix_svc, annot = True, fmt = \"d\", cmap =\"YlGnBu\")"
   ]
  },
  {
   "cell_type": "code",
   "execution_count": 42,
   "id": "a4ca8b61",
   "metadata": {},
   "outputs": [
    {
     "name": "stdout",
     "output_type": "stream",
     "text": [
      "True positive (TP) is : 1259\n",
      "True negative (TN) is : 1123\n",
      "False positive (FP) is : 0\n",
      "False negative (FN) is : 18\n"
     ]
    }
   ],
   "source": [
    "#Print the four values of the confusion matrix\n",
    "TP_svc = conf_matrix_svc[0,0]\n",
    "TN_svc = conf_matrix_svc[1,1]\n",
    "FP_svc = conf_matrix_svc[0,1]\n",
    "FN_svc = conf_matrix_svc[1,0]\n",
    "\n",
    "print(\"True positive (TP) is : {}\".format(TP_svc))\n",
    "print(\"True negative (TN) is : {}\".format(TN_svc))\n",
    "print(\"False positive (FP) is : {}\".format(FP_svc))\n",
    "print(\"False negative (FN) is : {}\".format(FN_svc))"
   ]
  },
  {
   "cell_type": "code",
   "execution_count": 43,
   "id": "9a98e0aa",
   "metadata": {},
   "outputs": [
    {
     "name": "stdout",
     "output_type": "stream",
     "text": [
      "The sensitivity for the decision tree model is : 98.59%\n",
      "The specificity for the decision tree model is : 100.0%\n",
      "The positive prediction rate for the decision tree model is : 100.0%\n",
      "The negative prediction rate for the decision tree model is : 98.42%\n"
     ]
    }
   ],
   "source": [
    "#Calculate sensitivity, specificity and the positive/negative prediction rate\n",
    "sensitivity_svc = round((TP_svc / (TP_svc + FN_svc))*100, 2)\n",
    "specificity_svc = round((TN_svc / (TN_svc + FP_svc))*100, 2)\n",
    "PositivePredictionRate_svc = round((TP_svc / (TP_svc + FP_svc))*100, 2)\n",
    "NegativePredictionRate_svc = round((TN_svc / (TN_svc + FN_svc))*100, 2)\n",
    "\n",
    "print(\"The sensitivity for the decision tree model is : {}%\".format(sensitivity_svc))\n",
    "print(\"The specificity for the decision tree model is : {}%\".format(specificity_svc))\n",
    "print(\"The positive prediction rate for the decision tree model is : {}%\".format(PositivePredictionRate_svc))\n",
    "print(\"The negative prediction rate for the decision tree model is : {}%\".format(NegativePredictionRate_svc))"
   ]
  },
  {
   "cell_type": "code",
   "execution_count": 44,
   "id": "ce5ab3eb",
   "metadata": {},
   "outputs": [
    {
     "name": "stdout",
     "output_type": "stream",
     "text": [
      "              precision    recall  f1-score   support\n",
      "\n",
      "           0       0.99      1.00      0.99      1259\n",
      "           1       1.00      0.98      0.99      1141\n",
      "\n",
      "    accuracy                           0.99      2400\n",
      "   macro avg       0.99      0.99      0.99      2400\n",
      "weighted avg       0.99      0.99      0.99      2400\n",
      "\n"
     ]
    }
   ],
   "source": [
    "#We can also obtain the above resitls from the classification_report function\n",
    "print(classification_report(y_test, y_pred_svc))"
   ]
  },
  {
   "cell_type": "markdown",
   "id": "dd85bd13",
   "metadata": {},
   "source": [
    "# Conclusion"
   ]
  },
  {
   "cell_type": "markdown",
   "id": "d0e9acbe",
   "metadata": {},
   "source": [
    "After running the three methods, we can see that all of them performed really well. All of them returned accuracy above 99% in the test dataset. But Decision Tree Classification was able to achieve 100% accuracy on the test dataset, so it is clearly my prefered option. "
   ]
  },
  {
   "cell_type": "code",
   "execution_count": null,
   "id": "7404d236",
   "metadata": {},
   "outputs": [],
   "source": []
  }
 ],
 "metadata": {
  "kernelspec": {
   "display_name": "Python 3",
   "language": "python",
   "name": "python3"
  },
  "language_info": {
   "codemirror_mode": {
    "name": "ipython",
    "version": 3
   },
   "file_extension": ".py",
   "mimetype": "text/x-python",
   "name": "python",
   "nbconvert_exporter": "python",
   "pygments_lexer": "ipython3",
   "version": "3.8.8"
  }
 },
 "nbformat": 4,
 "nbformat_minor": 5
}
